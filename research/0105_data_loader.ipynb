{
 "cells": [
  {
   "cell_type": "code",
   "execution_count": 15,
   "metadata": {},
   "outputs": [],
   "source": [
    "from datasets import load_dataset, load_from_disk"
   ]
  },
  {
   "cell_type": "code",
   "execution_count": 10,
   "metadata": {},
   "outputs": [
    {
     "name": "stderr",
     "output_type": "stream",
     "text": [
      "Downloading readme: 100%|██████████| 477/477 [00:00<00:00, 1.23MB/s]\n",
      "Downloading data: 100%|██████████| 7.09M/7.09M [00:12<00:00, 579kB/s]\n",
      "Downloading data: 100%|██████████| 1.77M/1.77M [00:03<00:00, 554kB/s]\n",
      "Generating train split: 100%|██████████| 4800/4800 [00:00<00:00, 77396.99 examples/s]\n",
      "Generating test split: 100%|██████████| 1200/1200 [00:00<00:00, 84376.87 examples/s]\n"
     ]
    }
   ],
   "source": [
    "dataset = load_dataset(\"sp46d/xsum-6k\")"
   ]
  },
  {
   "cell_type": "code",
   "execution_count": 14,
   "metadata": {},
   "outputs": [
    {
     "name": "stderr",
     "output_type": "stream",
     "text": [
      "Saving the dataset (1/1 shards): 100%|██████████| 4800/4800 [00:00<00:00, 32135.80 examples/s]\n",
      "Saving the dataset (1/1 shards): 100%|██████████| 1200/1200 [00:00<00:00, 66043.36 examples/s]\n"
     ]
    }
   ],
   "source": [
    "dataset.save_to_disk('test')"
   ]
  },
  {
   "cell_type": "code",
   "execution_count": 17,
   "metadata": {},
   "outputs": [],
   "source": [
    "ds = load_from_disk('test')"
   ]
  },
  {
   "cell_type": "code",
   "execution_count": 18,
   "metadata": {},
   "outputs": [
    {
     "data": {
      "text/plain": [
       "DatasetDict({\n",
       "    train: Dataset({\n",
       "        features: ['document', 'summary', 'id'],\n",
       "        num_rows: 4800\n",
       "    })\n",
       "    test: Dataset({\n",
       "        features: ['document', 'summary', 'id'],\n",
       "        num_rows: 1200\n",
       "    })\n",
       "})"
      ]
     },
     "execution_count": 18,
     "metadata": {},
     "output_type": "execute_result"
    }
   ],
   "source": [
    "ds"
   ]
  }
 ],
 "metadata": {
  "kernelspec": {
   "display_name": "venv",
   "language": "python",
   "name": "python3"
  },
  "language_info": {
   "codemirror_mode": {
    "name": "ipython",
    "version": 3
   },
   "file_extension": ".py",
   "mimetype": "text/x-python",
   "name": "python",
   "nbconvert_exporter": "python",
   "pygments_lexer": "ipython3",
   "version": "3.12.3"
  }
 },
 "nbformat": 4,
 "nbformat_minor": 2
}
